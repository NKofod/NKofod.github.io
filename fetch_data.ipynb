{
 "cells": [
  {
   "cell_type": "code",
   "execution_count": 1,
   "metadata": {},
   "outputs": [],
   "source": [
    "import requests\n",
    "import json \n",
    "import random "
   ]
  },
  {
   "cell_type": "code",
   "execution_count": 2,
   "metadata": {},
   "outputs": [],
   "source": [
    "presidential_national_vote_url = \"https://www.politico.com/election-data/results__2024-11-05__collections__2024-11-05-collection-president__summaries/data.json\"\n",
    "presidential_county_base_url_prefix = \"https://www.politico.com/election-data/results__2024-11-05__contests__ap:\" \n",
    "presidential_national_vote_url_suffix = \":0__counties/data.json\""
   ]
  },
  {
   "cell_type": "code",
   "execution_count": 3,
   "metadata": {},
   "outputs": [],
   "source": [
    "with open(\"us_states.json\", \"r\") as infile:\n",
    "    national_feature_map = json.load(infile)\n",
    "with open(\"candidate_ids.json\", \"r\") as infile:\n",
    "    candidates = json.load(infile)\n",
    "with open(\"county_feature_list.json\", \"r\") as infile:\n",
    "    county_feature_map = json.load(infile)\n",
    "\n"
   ]
  },
  {
   "cell_type": "code",
   "execution_count": 4,
   "metadata": {},
   "outputs": [],
   "source": [
    "v_request = requests.get(presidential_national_vote_url)\n",
    "v_cont = v_request.content\n",
    "v_dict = json.loads(v_cont)"
   ]
  },
  {
   "cell_type": "code",
   "execution_count": 5,
   "metadata": {},
   "outputs": [],
   "source": [
    "for contest in v_dict[\"contests\"]:\n",
    "    tmp_id = contest[\"id\"][3:5]\n",
    "    harris = 0 \n",
    "    trump = 0 \n",
    "    third_party = 0 \n",
    "    progress = contest['progress']['pct']\n",
    "    for result in contest['results']:\n",
    "        if candidates[result['id']] == 'Donald Trump': \n",
    "            trump += result['votes'] \n",
    "        elif candidates[result['id']] == 'Kamala Harris': \n",
    "            harris += result['votes']\n",
    "        else: \n",
    "            third_party += result['votes']\n",
    "    if harris+trump+third_party != 0:\n",
    "        harris = harris/(harris+trump+third_party)\n",
    "        trump = trump/(harris+trump+third_party)\n",
    "        third_party = third_party/(harris+trump+third_party)\n",
    "    for i in national_feature_map['features']:\n",
    "        if i['id'] == tmp_id:\n",
    "            tmp_property_dict = i['properties']\n",
    "            tmp_property_dict[\"harris\"] = harris\n",
    "            tmp_property_dict[\"trump\"] = trump\n",
    "            tmp_property_dict[\"third_party\"] = third_party\n",
    "            tmp_property_dict[\"progress\"] = progress\n",
    "            tmp_property_dict[\"margin\"] = harris - trump\n",
    "            # tmp_property_dict[\"margin\"] = random.randint(-15,15)\n",
    "            i[\"properties\"] = tmp_property_dict\n",
    "with open(\"us_states.js\", \"w\") as outfile:\n",
    "    outfile.write(f\"var statesData = {json.dumps(national_feature_map)}\")"
   ]
  },
  {
   "cell_type": "code",
   "execution_count": 12,
   "metadata": {},
   "outputs": [
    {
     "name": "stdout",
     "output_type": "stream",
     "text": [
      "{'eventId': '2024-11-05', 'id': 'ap:02:0', 'resultsType': 'live', 'timestamp': '2024-11-04T14:08:53.171000Z', 'counties': [{'id': '02000', 'results': [{'id': '167861', 'votes': 0}, {'id': '61513', 'votes': 0}, {'id': '64984', 'votes': 0}, {'id': '69459', 'votes': 0}, {'id': '71841', 'votes': 0}, {'id': '71845', 'votes': 0}, {'id': '8639', 'votes': 0}, {'id': '895', 'votes': 0}], 'progress': {'mode': 'eevp', 'pct': 0}}, {'results': [{'votes': 0, 'id': '167861'}, {'votes': 0, 'id': '61513'}, {'votes': 0, 'id': '64984'}, {'votes': 0, 'id': '69459'}, {'votes': 0, 'id': '71841'}, {'votes': 0, 'id': '71845'}, {'votes': 0, 'id': '8639'}, {'votes': 0, 'id': '895'}], 'progress': {'mode': 'eevp', 'pct': 0}, 'id': '00000'}]}\n",
      "{'name': 'Shannon', 'state': 'Missouri', 'harris': 0, 'trump': 0, 'third_party': 0, 'progress': 0, 'margin': 0}\n"
     ]
    }
   ],
   "source": [
    "for feature in national_feature_map['features']:\n",
    "    state_request = requests.get(f\"{presidential_county_base_url_prefix}{feature['id']}{presidential_national_vote_url_suffix}\")\n",
    "    state_content = state_request.content\n",
    "    state_json = json.loads(state_content)\n",
    "    #print(feature[\"id\"])\n",
    "    if feature[\"id\"] == \"02\": \n",
    "        print(state_json)\n",
    "    else:\n",
    "        pass \n",
    "\n",
    "    for contest in state_json[\"counties\"]:\n",
    "        \n",
    "        tmp_id = str(int(contest[\"id\"]))\n",
    "            \n",
    "        #print(tmp_id)\n",
    "        harris = 0 \n",
    "        trump = 0 \n",
    "        third_party = 0 \n",
    "        progress = contest['progress']['pct']\n",
    "        for result in contest['results']:\n",
    "            if candidates[result['id']] == 'Donald Trump': \n",
    "                trump += result['votes'] \n",
    "            elif candidates[result['id']] == 'Kamala Harris': \n",
    "                harris += result['votes']\n",
    "            else: \n",
    "                third_party += result['votes']\n",
    "        if harris+trump+third_party != 0:\n",
    "            harris = harris/(harris+trump+third_party)\n",
    "            trump = trump/(harris+trump+third_party)\n",
    "            third_party = third_party/(harris+trump+third_party)\n",
    "        for i in county_feature_map['features']:\n",
    "            \n",
    "            if i['id'] == tmp_id:\n",
    "                \n",
    "                tmp_property_dict = i['properties']\n",
    "                tmp_property_dict[\"state\"] = feature[\"properties\"][\"name\"]\n",
    "                tmp_property_dict[\"harris\"] = harris\n",
    "                tmp_property_dict[\"trump\"] = trump\n",
    "                tmp_property_dict[\"third_party\"] = third_party\n",
    "                tmp_property_dict[\"progress\"] = progress\n",
    "                tmp_property_dict[\"margin\"] = harris - trump\n",
    "                # tmp_property_dict[\"margin\"] = random.randint(-15,15)\n",
    "                i[\"properties\"] = tmp_property_dict\n",
    "                if i[\"id\"] == \"29203\": \n",
    "                    print(tmp_property_dict)\n",
    "with open(\"us_counties.js\", \"w\") as outfile:\n",
    "    outfile.write(f\"var countyData = {json.dumps(county_feature_map)}\")"
   ]
  }
 ],
 "metadata": {
  "kernelspec": {
   "display_name": "base",
   "language": "python",
   "name": "python3"
  },
  "language_info": {
   "codemirror_mode": {
    "name": "ipython",
    "version": 3
   },
   "file_extension": ".py",
   "mimetype": "text/x-python",
   "name": "python",
   "nbconvert_exporter": "python",
   "pygments_lexer": "ipython3",
   "version": "3.11.7"
  }
 },
 "nbformat": 4,
 "nbformat_minor": 2
}
