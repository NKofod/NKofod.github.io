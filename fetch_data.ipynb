{
 "cells": [
  {
   "cell_type": "code",
   "execution_count": 2,
   "metadata": {},
   "outputs": [],
   "source": [
    "import requests\n",
    "import json "
   ]
  },
  {
   "cell_type": "code",
   "execution_count": 3,
   "metadata": {},
   "outputs": [],
   "source": [
    "from cmap import Colormap"
   ]
  },
  {
   "cell_type": "code",
   "execution_count": 4,
   "metadata": {},
   "outputs": [],
   "source": [
    "cm = Colormap('matplotlib:seismic')"
   ]
  },
  {
   "cell_type": "code",
   "execution_count": 5,
   "metadata": {},
   "outputs": [],
   "source": [
    "candidate_url = \"https://www.politico.com/election-data/metadata__2024-11-05__collections__2024-11-05-collection-president__combined/data.json\"\n",
    "vote_url = \"https://www.politico.com/election-data/results__2024-11-05__collections__2024-11-05-collection-president__summaries/data.json\""
   ]
  },
  {
   "cell_type": "code",
   "execution_count": 6,
   "metadata": {},
   "outputs": [],
   "source": [
    "c_request = requests.get(candidate_url)\n",
    "v_request = requests.get(vote_url)\n",
    "c_cont = c_request.content\n",
    "v_cont = v_request.content\n",
    "c_dict = json.loads(c_cont)\n",
    "v_dict = json.loads(v_cont)"
   ]
  },
  {
   "cell_type": "code",
   "execution_count": 11,
   "metadata": {},
   "outputs": [],
   "source": [
    "tmp_r = requests.get(\"https://raw.githubusercontent.com/python-visualization/folium/master/tests/us-counties.json\")\n",
    "tmp_c = tmp_r.content\n",
    "tmp_d = json.loads(tmp_c)"
   ]
  },
  {
   "cell_type": "code",
   "execution_count": 16,
   "metadata": {},
   "outputs": [
    {
     "name": "stdout",
     "output_type": "stream",
     "text": [
      "{'type': 'Feature', 'id': '4005', 'properties': {'name': 'Coconino'}, 'geometry': {'type': 'Polygon', 'coordinates': [[[-110.751309, 37.00574], [-110.751309, 34.261793], [-111.556419, 34.469916], [-111.775497, 34.979272], [-112.334144, 34.973795], [-112.438206, 35.258596], [-113.336425, 35.526966], [-113.352855, 36.047275], [-112.629899, 36.392322], [-112.542268, 37.000263], [-111.414018, 37.000263], [-110.751309, 37.00574]]]}}\n"
     ]
    }
   ],
   "source": [
    "for feature in tmp_d[\"features\"]:\n",
    "    if feature[\"properties\"][\"name\"] == \"Coconino\":\n",
    "        print(feature)"
   ]
  },
  {
   "cell_type": "code",
   "execution_count": 8,
   "metadata": {},
   "outputs": [],
   "source": [
    "candidate_info = {}"
   ]
  },
  {
   "cell_type": "code",
   "execution_count": 9,
   "metadata": {},
   "outputs": [],
   "source": [
    "for event in c_dict:\n",
    "    try:\n",
    "        for candidate in event[\"candidates\"]:\n",
    "            candidate = event[\"candidates\"][candidate]\n",
    "            candidate_info[candidate[\"id\"]] = candidate[\"fullName\"]\n",
    "    except KeyError:\n",
    "        continue "
   ]
  },
  {
   "cell_type": "code",
   "execution_count": 10,
   "metadata": {},
   "outputs": [
    {
     "ename": "NameError",
     "evalue": "name 'states' is not defined",
     "output_type": "error",
     "traceback": [
      "\u001b[0;31m---------------------------------------------------------------------------\u001b[0m",
      "\u001b[0;31mNameError\u001b[0m                                 Traceback (most recent call last)",
      "Cell \u001b[0;32mIn[10], line 2\u001b[0m\n\u001b[1;32m      1\u001b[0m \u001b[38;5;28;01mwith\u001b[39;00m \u001b[38;5;28mopen\u001b[39m(\u001b[38;5;124m\"\u001b[39m\u001b[38;5;124mstate_ids.json\u001b[39m\u001b[38;5;124m\"\u001b[39m, \u001b[38;5;124m\"\u001b[39m\u001b[38;5;124mw\u001b[39m\u001b[38;5;124m\"\u001b[39m) \u001b[38;5;28;01mas\u001b[39;00m outfile:\n\u001b[0;32m----> 2\u001b[0m     json\u001b[38;5;241m.\u001b[39mdump(states,outfile)\n",
      "\u001b[0;31mNameError\u001b[0m: name 'states' is not defined"
     ]
    }
   ],
   "source": [
    "with open(\"state_ids.json\", \"w\") as outfile:\n",
    "    json.dump(states,outfile)"
   ]
  },
  {
   "cell_type": "code",
   "execution_count": 39,
   "metadata": {},
   "outputs": [],
   "source": [
    "with open(\"manifest.json\", \"r\") as infile:\n",
    "    tmp = infile.read()\n",
    "    state_info = json.loads(tmp)"
   ]
  },
  {
   "cell_type": "code",
   "execution_count": 40,
   "metadata": {},
   "outputs": [],
   "source": [
    "states = {}"
   ]
  },
  {
   "cell_type": "code",
   "execution_count": 41,
   "metadata": {},
   "outputs": [
    {
     "name": "stdout",
     "output_type": "stream",
     "text": [
      "{'path': '/new-hampshire/', 'stateFips': '33', 'nav': {'name': 'President', 'level': 'state:33'}, 'utag': {'pageName': '2024 Election: Results: General: State: Landing: New Hampshire'}, 'social': {'image': {'type': 'image/png', 'url': 'share/general/newhampshire.png'}}, 'roles': ['state:33:index', 'state:33:president'], 'name': 'New Hampshire President Page', 'id': '49fca4ff-4c16-4dbc-8401-e4e4566af5ac', 'seo': {'title': 'New Hampshire Election Results 2024: Live Map - Races by County - POLITICO', 'description': \"Live 2024 New Hampshire election results and maps by county and district. POLITICO's real-time coverage of 2024 races for President, Senate, House and Governor.\"}}\n",
      "{'path': '/south-carolina/', 'stateFips': '45', 'nav': {'name': 'President', 'level': 'state:45'}, 'utag': {'pageName': '2024 Election: Results: General: State: Landing: South Carolina'}, 'social': {'image': {'type': 'image/png', 'url': 'share/general/southcarolina.png'}}, 'roles': ['state:45:index', 'state:45:president'], 'name': 'South Carolina President Page', 'id': 'd0f5cc4b-84db-433e-94e3-c37697f8d27c', 'seo': {'title': 'South Carolina Election Results 2024: Live Map - Races by County - POLITICO', 'description': \"Live 2024 South Carolina election results and maps by county and district. POLITICO's real-time coverage of 2024 races for President, Senate, House and Governor.\"}}\n",
      "{'path': '/colorado/', 'stateFips': '08', 'nav': {'name': 'President', 'level': 'state:08'}, 'utag': {'pageName': '2024 Election: Results: General: State: Landing: Colorado'}, 'social': {'image': {'type': 'image/png', 'url': 'share/general/colorado.png'}}, 'roles': ['state:08:index', 'state:08:president'], 'name': 'Colorado President Page', 'id': '41b40ef0-0c89-47e2-9b29-504bf7935d0d', 'seo': {'title': 'Colorado Election Results 2024: Live Map - Races by County - POLITICO', 'description': \"Live 2024 Colorado election results and maps by county and district. POLITICO's real-time coverage of 2024 races for President, Senate, House and Governor.\"}}\n",
      "{'path': '/vermont/', 'stateFips': '50', 'nav': {'name': 'President', 'level': 'state:50'}, 'utag': {'pageName': '2024 Election: Results: General: State: Landing: Vermont'}, 'social': {'image': {'type': 'image/png', 'url': 'share/general/vermont.png'}}, 'roles': ['state:50:index', 'state:50:president'], 'name': 'Vermont President Page', 'id': 'c0d71321-ecf9-43f5-8f68-2d33457e5d33', 'seo': {'title': 'Vermont Election Results 2024: Live Map - Races by County - POLITICO', 'description': \"Live 2024 Vermont election results and maps by county and district. POLITICO's real-time coverage of 2024 races for President, Senate, House and Governor.\"}}\n",
      "{'path': '/alabama/', 'stateFips': '01', 'nav': {'name': 'President', 'level': 'state:01'}, 'utag': {'pageName': '2024 Election: Results: General: State: Landing: Alabama'}, 'social': {'image': {'type': 'image/png', 'url': 'share/general/alabama.png'}}, 'roles': ['state:01:index', 'state:01:president'], 'name': 'Alabama President Page', 'id': '2676e88b-1038-4b18-b5aa-92f4ef8b4dbf', 'seo': {'title': 'Alabama Election Results 2024: Live Map - Races by County - POLITICO', 'description': \"Live 2024 Alabama election results and maps by county and district. POLITICO's real-time coverage of 2024 races for President, Senate, House and Governor.\"}}\n",
      "{'path': '/arkansas/', 'stateFips': '05', 'nav': {'name': 'President', 'level': 'state:05'}, 'utag': {'pageName': '2024 Election: Results: General: State: Landing: Arkansas'}, 'social': {'image': {'type': 'image/png', 'url': 'share/general/arkansas.png'}}, 'roles': ['state:05:index', 'state:05:president'], 'name': 'Arkansas President Page', 'id': '1bd4245e-6841-4ed4-8570-26634e13da5d', 'seo': {'title': 'Arkansas Election Results 2024: Live Map - Races by County - POLITICO', 'description': \"Live 2024 Arkansas election results and maps by county and district. POLITICO's real-time coverage of 2024 races for President, Senate, House and Governor.\"}}\n",
      "{'path': '/california/', 'stateFips': '06', 'nav': {'name': 'President', 'level': 'state:06'}, 'utag': {'pageName': '2024 Election: Results: General: State: Landing: California'}, 'social': {'image': {'type': 'image/png', 'url': 'share/general/california.png'}}, 'roles': ['state:06:index', 'state:06:president'], 'name': 'California President Page', 'id': 'd52fc89f-f30f-47e1-8ddd-1515cca00866', 'seo': {'title': 'California Election Results 2024: Live Map - Races by County - POLITICO', 'description': \"Live 2024 California election results and maps by county and district. POLITICO's real-time coverage of 2024 races for President, Senate, House and Governor.\"}}\n",
      "{'path': '/maine/', 'stateFips': '23', 'nav': {'name': 'President', 'level': 'state:23'}, 'utag': {'pageName': '2024 Election: Results: General: State: Landing: Maine'}, 'social': {'image': {'type': 'image/png', 'url': 'share/general/maine.png'}}, 'roles': ['state:23:index', 'state:23:president'], 'name': 'Maine President Page', 'id': '68504d70-af6a-4d61-9a82-51e117326433', 'seo': {'title': 'Maine Election Results 2024: Live Map - Races by County - POLITICO', 'description': \"Live 2024 Maine election results and maps by county and district. POLITICO's real-time coverage of 2024 races for President, Senate, House and Governor.\"}}\n",
      "{'path': '/massachusetts/', 'stateFips': '25', 'nav': {'name': 'President', 'level': 'state:25'}, 'utag': {'pageName': '2024 Election: Results: General: State: Landing: Massachusetts'}, 'social': {'image': {'type': 'image/png', 'url': 'share/general/massachusetts.png'}}, 'roles': ['state:25:index', 'state:25:president'], 'name': 'Massachusetts President Page', 'id': '105999ec-6262-4f08-9c2f-83ec9420721e', 'seo': {'title': 'Massachusetts Election Results 2024: Live Map - Races by County - POLITICO', 'description': \"Live 2024 Massachusetts election results and maps by county and district. POLITICO's real-time coverage of 2024 races for President, Senate, House and Governor.\"}}\n",
      "{'path': '/minnesota/', 'stateFips': '27', 'nav': {'name': 'President', 'level': 'state:27'}, 'utag': {'pageName': '2024 Election: Results: General: State: Landing: Minnesota'}, 'social': {'image': {'type': 'image/png', 'url': 'share/general/minnesota.png'}}, 'roles': ['state:27:index', 'state:27:president'], 'name': 'Minnesota President Page', 'id': '864114f1-b04a-4d4f-9dc5-937915cc6c7b', 'seo': {'title': 'Minnesota Election Results 2024: Live Map - Races by County - POLITICO', 'description': \"Live 2024 Minnesota election results and maps by county and district. POLITICO's real-time coverage of 2024 races for President, Senate, House and Governor.\"}}\n",
      "{'path': '/oklahoma/', 'stateFips': '40', 'nav': {'name': 'President', 'level': 'state:40'}, 'utag': {'pageName': '2024 Election: Results: General: State: Landing: Oklahoma'}, 'social': {'image': {'type': 'image/png', 'url': 'share/general/oklahoma.png'}}, 'roles': ['state:40:index', 'state:40:president'], 'name': 'Oklahoma President Page', 'id': '404dcfa9-ef1a-4fcb-8fd9-8cdc27c8af7d', 'seo': {'title': 'Oklahoma Election Results 2024: Live Map - Races by County - POLITICO', 'description': \"Live 2024 Oklahoma election results and maps by county and district. POLITICO's real-time coverage of 2024 races for President, Senate, House and Governor.\"}}\n",
      "{'path': '/utah/', 'stateFips': '49', 'nav': {'name': 'President', 'level': 'state:49'}, 'utag': {'pageName': '2024 Election: Results: General: State: Landing: Utah'}, 'social': {'image': {'type': 'image/png', 'url': 'share/general/utah.png'}}, 'roles': ['state:49:index', 'state:49:president'], 'name': 'Utah President Page', 'id': '28a55506-1aa1-4d20-9fbb-2ea153a6d5b6', 'seo': {'title': 'Utah Election Results 2024: Live Map - Races by County - POLITICO', 'description': \"Live 2024 Utah election results and maps by county and district. POLITICO's real-time coverage of 2024 races for President, Senate, House and Governor.\"}}\n",
      "{'path': '/alaska/', 'stateFips': '02', 'nav': {'name': 'President', 'level': 'state:02'}, 'utag': {'pageName': '2024 Election: Results: General: State: Landing: Alaska'}, 'social': {'image': {'type': 'image/png', 'url': 'share/general/alaska.png'}}, 'roles': ['state:02:index', 'state:02:president'], 'name': 'Alaska President Page', 'id': '35a7dc68-1ad2-4cf0-b639-aedc47ddc048', 'seo': {'title': 'Alaska Election Results 2024: Live Map - Races by County - POLITICO', 'description': \"Live 2024 Alaska election results and maps by county and district. POLITICO's real-time coverage of 2024 races for President, Senate, House and Governor.\"}}\n",
      "{'path': '/tennessee/', 'stateFips': '47', 'nav': {'name': 'President', 'level': 'state:47'}, 'utag': {'pageName': '2024 Election: Results: General: State: Landing: Tennessee'}, 'social': {'image': {'type': 'image/png', 'url': 'share/general/tennessee.png'}}, 'roles': ['state:47:index', 'state:47:president'], 'name': 'Tennessee President Page', 'id': 'c21b6841-a656-43bf-94f4-8c6c5c442e05', 'seo': {'title': 'Tennessee Election Results 2024: Live Map - Races by County - POLITICO', 'description': \"Live 2024 Tennessee election results and maps by county and district. POLITICO's real-time coverage of 2024 races for President, Senate, House and Governor.\"}}\n",
      "{'path': '/virginia/', 'stateFips': '51', 'nav': {'name': 'President', 'level': 'state:51'}, 'utag': {'pageName': '2024 Election: Results: General: State: Landing: Virginia'}, 'social': {'image': {'type': 'image/png', 'url': 'share/general/virginia.png'}}, 'roles': ['state:51:index', 'state:51:president'], 'name': 'Virginia President Page', 'id': '906ebc17-adab-48c3-8557-d221a62a1fd7', 'seo': {'title': 'Virginia Election Results 2024: Live Map - Races by County - POLITICO', 'description': \"Live 2024 Virginia election results and maps by county and district. POLITICO's real-time coverage of 2024 races for President, Senate, House and Governor.\"}}\n",
      "{'path': '/hawaii/', 'stateFips': '15', 'nav': {'name': 'President', 'level': 'state:15'}, 'utag': {'pageName': '2024 Election: Results: General: State: Landing: Hawaii'}, 'social': {'image': {'type': 'image/png', 'url': 'share/general/hawaii.png'}}, 'roles': ['state:15:index', 'state:15:president'], 'name': 'Hawaii President Page', 'id': '7008ce69-c3ee-4a0a-af65-e7cc8583d4fb', 'seo': {'title': 'Hawaii Election Results 2024: Live Map - Races by County - POLITICO', 'description': \"Live 2024 Hawaii election results and maps by county and district. POLITICO's real-time coverage of 2024 races for President, Senate, House and Governor.\"}}\n",
      "{'path': '/mississippi/', 'stateFips': '28', 'nav': {'name': 'President', 'level': 'state:28'}, 'utag': {'pageName': '2024 Election: Results: General: State: Landing: Mississippi'}, 'social': {'image': {'type': 'image/png', 'url': 'share/general/mississippi.png'}}, 'roles': ['state:28:index', 'state:28:president'], 'name': 'Mississippi President Page', 'id': 'b35f6b53-99b5-4a86-a5b5-2be18324e585', 'seo': {'title': 'Mississippi Election Results 2024: Live Map - Races by County - POLITICO', 'description': \"Live 2024 Mississippi election results and maps by county and district. POLITICO's real-time coverage of 2024 races for President, Senate, House and Governor.\"}}\n",
      "{'path': '/texas/', 'stateFips': '48', 'nav': {'name': 'President', 'level': 'state:48'}, 'utag': {'pageName': '2024 Election: Results: General: State: Landing: Texas'}, 'social': {'image': {'type': 'image/png', 'url': 'share/general/texas.png'}}, 'roles': ['state:48:index', 'state:48:president'], 'name': 'Texas President Page', 'id': '111bbd90-db8e-45da-a7d9-03dc0deace09', 'seo': {'title': 'Texas Election Results 2024: Live Map - Races by County - POLITICO', 'description': \"Live 2024 Texas election results and maps by county and district. POLITICO's real-time coverage of 2024 races for President, Senate, House and Governor.\"}}\n",
      "{'path': '/washington/', 'stateFips': '53', 'nav': {'name': 'President', 'level': 'state:53'}, 'utag': {'pageName': '2024 Election: Results: General: State: Landing: Washington'}, 'social': {'image': {'type': 'image/png', 'url': 'share/general/washington.png'}}, 'roles': ['state:53:index', 'state:53:president'], 'name': 'Washington President Page', 'id': 'ba3404e9-3637-495d-aa43-06f0394d7be1', 'seo': {'title': 'Washington Election Results 2024: Live Map - Races by County - POLITICO', 'description': \"Live 2024 Washington election results and maps by county and district. POLITICO's real-time coverage of 2024 races for President, Senate, House and Governor.\"}}\n",
      "{'path': '/illinois/', 'stateFips': '17', 'nav': {'name': 'President', 'level': 'state:17'}, 'utag': {'pageName': '2024 Election: Results: General: State: Landing: Illinois'}, 'social': {'image': {'type': 'image/png', 'url': 'share/general/illinois.png'}}, 'roles': ['state:17:index', 'state:17:president'], 'name': 'Illinois President Page', 'id': 'dc7d837e-f953-420a-8d0f-5d5c157e652d', 'seo': {'title': 'Illinois Election Results 2024: Live Map - Races by County - POLITICO', 'description': \"Live 2024 Illinois election results and maps by county and district. POLITICO's real-time coverage of 2024 races for President, Senate, House and Governor.\"}}\n",
      "{'path': '/kansas/', 'stateFips': '20', 'nav': {'name': 'President', 'level': 'state:20'}, 'utag': {'pageName': '2024 Election: Results: General: State: Landing: Kansas'}, 'social': {'image': {'type': 'image/png', 'url': 'share/general/kansas.png'}}, 'roles': ['state:20:index', 'state:20:president'], 'name': 'Kansas President Page', 'id': 'e40f1d3f-2b51-4014-b325-f02687854563', 'seo': {'title': 'Kansas Election Results 2024: Live Map - Races by County - POLITICO', 'description': \"Live 2024 Kansas election results and maps by county and district. POLITICO's real-time coverage of 2024 races for President, Senate, House and Governor.\"}}\n",
      "{'path': '/ohio/', 'stateFips': '39', 'nav': {'name': 'President', 'level': 'state:39'}, 'utag': {'pageName': '2024 Election: Results: General: State: Landing: Ohio'}, 'social': {'image': {'type': 'image/png', 'url': 'share/general/ohio.png'}}, 'roles': ['state:39:index', 'state:39:president'], 'name': 'Ohio President Page', 'id': 'f951df6d-569b-414b-983d-0f77a805c1dd', 'seo': {'title': 'Ohio Election Results 2024: Live Map - Races by County - POLITICO', 'description': \"Live 2024 Ohio election results and maps by county and district. POLITICO's real-time coverage of 2024 races for President, Senate, House and Governor.\"}}\n",
      "{'path': '/missouri/', 'stateFips': '29', 'nav': {'name': 'President', 'level': 'state:29'}, 'utag': {'pageName': '2024 Election: Results: General: State: Landing: Missouri'}, 'social': {'image': {'type': 'image/png', 'url': 'share/general/missouri.png'}}, 'roles': ['state:29:index', 'state:29:president'], 'name': 'Missouri President Page', 'id': 'b5bbc49e-df3b-4239-8997-0be6cceb6d86', 'seo': {'title': 'Missouri Election Results 2024: Live Map - Races by County - POLITICO', 'description': \"Live 2024 Missouri election results and maps by county and district. POLITICO's real-time coverage of 2024 races for President, Senate, House and Governor.\"}}\n",
      "{'path': '/louisiana/', 'stateFips': '22', 'nav': {'name': 'President', 'level': 'state:22'}, 'utag': {'pageName': '2024 Election: Results: General: State: Landing: Louisiana'}, 'social': {'image': {'type': 'image/png', 'url': 'share/general/louisiana.png'}}, 'roles': ['state:22:index', 'state:22:president'], 'name': 'Louisiana President Page', 'id': 'df9d3d5a-2898-4c38-89d9-9e681e4fc741', 'seo': {'title': 'Louisiana Election Results 2024: Live Map - Races by County - POLITICO', 'description': \"Live 2024 Louisiana election results and maps by county and district. POLITICO's real-time coverage of 2024 races for President, Senate, House and Governor.\"}}\n",
      "{'path': '/florida/', 'stateFips': '12', 'nav': {'name': 'President', 'level': 'state:12'}, 'utag': {'pageName': '2024 Election: Results: General: State: Landing: Florida'}, 'social': {'image': {'type': 'image/png', 'url': 'share/general/florida.png'}}, 'roles': ['state:12:index', 'state:12:president'], 'name': 'Florida President Page', 'id': 'f9411188-4fba-433b-b455-5187a173cf49', 'seo': {'title': 'Florida Election Results 2024: Live Map - Races by County - POLITICO', 'description': \"Live 2024 Florida election results and maps by county and district. POLITICO's real-time coverage of 2024 races for President, Senate, House and Governor.\"}}\n",
      "{'path': '/north-dakota/', 'stateFips': '38', 'nav': {'name': 'President', 'level': 'state:38'}, 'utag': {'pageName': '2024 Election: Results: General: State: Landing: North Dakota'}, 'social': {'image': {'type': 'image/png', 'url': 'share/general/northdakota.png'}}, 'roles': ['state:38:index', 'state:38:president'], 'name': 'North Dakota President Page', 'id': 'e921317b-a333-475a-8842-647d8b62ac8f', 'seo': {'title': 'North Dakota Election Results 2024: Live Map - Races by County - POLITICO', 'description': \"Live 2024 North Dakota election results and maps by county and district. POLITICO's real-time coverage of 2024 races for President, Senate, House and Governor.\"}}\n",
      "{'path': '/rhode-island/', 'stateFips': '44', 'nav': {'name': 'President', 'level': 'state:44'}, 'utag': {'pageName': '2024 Election: Results: General: State: Landing: Rhode Island'}, 'social': {'image': {'type': 'image/png', 'url': 'share/general/rhodeisland.png'}}, 'roles': ['state:44:index', 'state:44:president'], 'name': 'Rhode Island President Page', 'id': 'c9e1987b-777d-46a2-9433-9e5811576e2c', 'seo': {'title': 'Rhode Island Election Results 2024: Live Map - Races by County - POLITICO', 'description': \"Live 2024 Rhode Island election results and maps by county and district. POLITICO's real-time coverage of 2024 races for President, Senate, House and Governor.\"}}\n",
      "{'path': '/delaware/', 'stateFips': '10', 'nav': {'name': 'President', 'level': 'state:10'}, 'utag': {'pageName': '2024 Election: Results: General: State: Landing: Delaware'}, 'social': {'image': {'type': 'image/png', 'url': 'share/general/delaware.png'}}, 'roles': ['state:10:index', 'state:10:president'], 'name': 'Delaware President Page', 'id': 'c659efce-5fef-483f-8eb9-c8a7d8797f30', 'seo': {'title': 'Delaware Election Results 2024: Live Map - Races by County - POLITICO', 'description': \"Live 2024 Delaware election results and maps by county and district. POLITICO's real-time coverage of 2024 races for President, Senate, House and Governor.\"}}\n",
      "{'path': '/new-york/', 'stateFips': '36', 'nav': {'name': 'President', 'level': 'state:36'}, 'utag': {'pageName': '2024 Election: Results: General: State: Landing: New York'}, 'social': {'image': {'type': 'image/png', 'url': 'share/general/newyork.png'}}, 'roles': ['state:36:index', 'state:36:president'], 'name': 'New York President Page', 'id': '76f17a48-fd7f-437b-912b-0b503c420b7b', 'seo': {'title': 'New York Election Results 2024: Live Map - Races by County - POLITICO', 'description': \"Live 2024 New York election results and maps by county and district. POLITICO's real-time coverage of 2024 races for President, Senate, House and Governor.\"}}\n",
      "{'path': '/wyoming/', 'stateFips': '56', 'nav': {'name': 'President', 'level': 'state:56'}, 'utag': {'pageName': '2024 Election: Results: General: State: Landing: Wyoming'}, 'social': {'image': {'type': 'image/png', 'url': 'share/general/wyoming.png'}}, 'roles': ['state:56:index', 'state:56:president'], 'name': 'Wyoming President Page', 'id': '3335ddf2-136e-465a-86da-bb20232f17b4', 'seo': {'title': 'Wyoming Election Results 2024: Live Map - Races by County - POLITICO', 'description': \"Live 2024 Wyoming election results and maps by county and district. POLITICO's real-time coverage of 2024 races for President, Senate, House and Governor.\"}}\n",
      "{'path': '/indiana/', 'stateFips': '18', 'nav': {'name': 'President', 'level': 'state:18'}, 'utag': {'pageName': '2024 Election: Results: General: State: Landing: Indiana'}, 'social': {'image': {'type': 'image/png', 'url': 'share/general/indiana.png'}}, 'roles': ['state:18:index', 'state:18:president'], 'name': 'Indiana President Page', 'id': '6edf83d9-97df-4b8d-b7ed-1cf335b22a90', 'seo': {'title': 'Indiana Election Results 2024: Live Map - Races by County - POLITICO', 'description': \"Live 2024 Indiana election results and maps by county and district. POLITICO's real-time coverage of 2024 races for President, Senate, House and Governor.\"}}\n",
      "{'path': '/maryland/', 'stateFips': '24', 'nav': {'name': 'President', 'level': 'state:24'}, 'utag': {'pageName': '2024 Election: Results: General: State: Landing: Maryland'}, 'social': {'image': {'type': 'image/png', 'url': 'share/general/maryland.png'}}, 'roles': ['state:24:index', 'state:24:president'], 'name': 'Maryland President Page', 'id': '3ace72a0-8314-425d-9b12-702797e57d15', 'seo': {'title': 'Maryland Election Results 2024: Live Map - Races by County - POLITICO', 'description': \"Live 2024 Maryland election results and maps by county and district. POLITICO's real-time coverage of 2024 races for President, Senate, House and Governor.\"}}\n",
      "{'path': '/west-virginia/', 'stateFips': '54', 'nav': {'name': 'President', 'level': 'state:54'}, 'utag': {'pageName': '2024 Election: Results: General: State: Landing: West Virginia'}, 'social': {'image': {'type': 'image/png', 'url': 'share/general/westvirginia.png'}}, 'roles': ['state:54:index', 'state:54:president'], 'name': 'West Virginia President Page', 'id': 'cc11075c-2ecb-49f9-ba5f-a7b116ce3ffb', 'seo': {'title': 'West Virginia Election Results 2024: Live Map - Races by County - POLITICO', 'description': \"Live 2024 West Virginia election results and maps by county and district. POLITICO's real-time coverage of 2024 races for President, Senate, House and Governor.\"}}\n",
      "{'path': '/kentucky/', 'stateFips': '21', 'nav': {'name': 'President', 'level': 'state:21'}, 'utag': {'pageName': '2024 Election: Results: General: State: Landing: Kentucky'}, 'social': {'image': {'type': 'image/png', 'url': 'share/general/kentucky.png'}}, 'roles': ['state:21:index', 'state:21:president'], 'name': 'Kentucky President Page', 'id': '193f88af-e058-42eb-a95f-ad214628a64a', 'seo': {'title': 'Kentucky Election Results 2024: Live Map - Races by County - POLITICO', 'description': \"Live 2024 Kentucky election results and maps by county and district. POLITICO's real-time coverage of 2024 races for President, Senate, House and Governor.\"}}\n",
      "{'path': '/oregon/', 'stateFips': '41', 'nav': {'name': 'President', 'level': 'state:41'}, 'utag': {'pageName': '2024 Election: Results: General: State: Landing: Oregon'}, 'social': {'image': {'type': 'image/png', 'url': 'share/general/oregon.png'}}, 'roles': ['state:41:index', 'state:41:president'], 'name': 'Oregon President Page', 'id': 'daa41769-701c-4bc3-b663-a89200245eb8', 'seo': {'title': 'Oregon Election Results 2024: Live Map - Races by County - POLITICO', 'description': \"Live 2024 Oregon election results and maps by county and district. POLITICO's real-time coverage of 2024 races for President, Senate, House and Governor.\"}}\n",
      "{'path': '/idaho/', 'stateFips': '16', 'nav': {'name': 'President', 'level': 'state:16'}, 'utag': {'pageName': '2024 Election: Results: General: State: Landing: Idaho'}, 'social': {'image': {'type': 'image/png', 'url': 'share/general/idaho.png'}}, 'roles': ['state:16:index', 'state:16:president'], 'name': 'Idaho President Page', 'id': '94eb3536-728c-4fe0-8517-3032147740cd', 'seo': {'title': 'Idaho Election Results 2024: Live Map - Races by County - POLITICO', 'description': \"Live 2024 Idaho election results and maps by county and district. POLITICO's real-time coverage of 2024 races for President, Senate, House and Governor.\"}}\n",
      "{'path': '/washington-dc/', 'stateFips': '11', 'nav': {'name': 'President', 'level': 'state:11'}, 'utag': {'pageName': '2024 Election: Results: General: State: Landing: Washington, D.C.'}, 'social': {'image': {'type': 'image/png', 'url': 'share/general/washingtondc.png'}}, 'roles': ['state:11:index', 'state:11:president'], 'name': 'Washington, D.C. President Page', 'id': '68ed15f1-d0ab-4525-8657-9b3d16133a0e', 'seo': {'title': 'Washington, D.C. Election Results 2024: Live Map - Races by County - POLITICO', 'description': \"Live 2024 Washington, D.C. election results and maps by county and district. POLITICO's real-time coverage of 2024 races for President, Senate, House and Governor.\"}}\n",
      "{'path': '/new-jersey/', 'stateFips': '34', 'nav': {'name': 'President', 'level': 'state:34'}, 'utag': {'pageName': '2024 Election: Results: General: State: Landing: New Jersey'}, 'social': {'image': {'type': 'image/png', 'url': 'share/general/newjersey.png'}}, 'roles': ['state:34:index', 'state:34:president'], 'name': 'New Jersey President Page', 'id': '1172ff12-1874-4e4a-a8f1-57cc56927031', 'seo': {'title': 'New Jersey Election Results 2024: Live Map - Races by County - POLITICO', 'description': \"Live 2024 New Jersey election results and maps by county and district. POLITICO's real-time coverage of 2024 races for President, Senate, House and Governor.\"}}\n",
      "{'path': '/new-mexico/', 'stateFips': '35', 'nav': {'name': 'President', 'level': 'state:35'}, 'utag': {'pageName': '2024 Election: Results: General: State: Landing: New Mexico'}, 'social': {'image': {'type': 'image/png', 'url': 'share/general/newmexico.png'}}, 'roles': ['state:35:index', 'state:35:president'], 'name': 'New Mexico President Page', 'id': '20741c77-90f6-4212-bd15-843d639460ca', 'seo': {'title': 'New Mexico Election Results 2024: Live Map - Races by County - POLITICO', 'description': \"Live 2024 New Mexico election results and maps by county and district. POLITICO's real-time coverage of 2024 races for President, Senate, House and Governor.\"}}\n",
      "{'path': '/south-dakota/', 'stateFips': '46', 'nav': {'name': 'President', 'level': 'state:46'}, 'utag': {'pageName': '2024 Election: Results: General: State: Landing: South Dakota'}, 'social': {'image': {'type': 'image/png', 'url': 'share/general/southdakota.png'}}, 'roles': ['state:46:index', 'state:46:president'], 'name': 'South Dakota President Page', 'id': '98b63e28-2cfe-4b35-a441-4882f01dc368', 'seo': {'title': 'South Dakota Election Results 2024: Live Map - Races by County - POLITICO', 'description': \"Live 2024 South Dakota election results and maps by county and district. POLITICO's real-time coverage of 2024 races for President, Senate, House and Governor.\"}}\n",
      "{'path': '/montana/', 'stateFips': '30', 'nav': {'name': 'President', 'level': 'state:30'}, 'utag': {'pageName': '2024 Election: Results: General: State: Landing: Montana'}, 'social': {'image': {'type': 'image/png', 'url': 'share/general/montana.png'}}, 'roles': ['state:30:index', 'state:30:president'], 'name': 'Montana President Page', 'id': '1d56fa63-d035-4f26-a75b-04d86767ecd4', 'seo': {'title': 'Montana Election Results 2024: Live Map - Races by County - POLITICO', 'description': \"Live 2024 Montana election results and maps by county and district. POLITICO's real-time coverage of 2024 races for President, Senate, House and Governor.\"}}\n",
      "{'path': '/connecticut/', 'stateFips': '09', 'nav': {'name': 'President', 'level': 'state:09'}, 'utag': {'pageName': '2024 Election: Results: General: State: Landing: Connecticut'}, 'social': {'image': {'type': 'image/png', 'url': 'share/general/connecticut.png'}}, 'roles': ['state:09:index', 'state:09:president'], 'name': 'Connecticut President Page', 'id': 'e5d73604-1c68-43e9-862f-facb1d809a70', 'seo': {'title': 'Connecticut Election Results 2024: Live Map - Races by County - POLITICO', 'description': \"Live 2024 Connecticut election results and maps by county and district. POLITICO's real-time coverage of 2024 races for President, Senate, House and Governor.\"}}\n",
      "{'path': '/iowa/', 'stateFips': '19', 'nav': {'name': 'President', 'level': 'state:19'}, 'utag': {'pageName': '2024 Election: Results: General: State: Landing: Iowa'}, 'social': {'image': {'type': 'image/png', 'url': 'share/general/iowa.png'}}, 'roles': ['state:19:index', 'state:19:president'], 'name': 'Iowa President Page', 'id': 'bfa4115c-fa46-43a8-8344-cb957d2548e4', 'seo': {'title': 'Iowa Election Results 2024: Live Map - Races by County - POLITICO', 'description': \"Live 2024 Iowa election results and maps by county and district. POLITICO's real-time coverage of 2024 races for President, Senate, House and Governor.\"}}\n",
      "{'path': '/president/', 'nav': {'name': 'President', 'level': 'global', 'bopId': 'president'}, 'utag': {'pageName': '2024 Election: Results: General: Nation: President'}, 'social': {'image': {'type': 'image/png', 'url': 'share/general/president.png'}}, 'roles': ['index:president'], 'name': 'Presidential Index Page', 'id': '76334d43-c81a-4625-88b8-1816d2669bdc', 'seo': {'title': 'Presidential Election Results 2024: Electoral Votes & Map by State - POLITICO', 'description': 'Live 2024 Presidential election results, maps and electoral votes by state. POLITICO’s real-time coverage of 2024 races for President, Senate, House and Governor.'}}\n",
      "{'path': '/arizona/', 'stateFips': '04', 'nav': {'name': 'President', 'level': 'state:04'}, 'utag': {'pageName': '2024 Election: Results: General: State: Landing: Arizona'}, 'social': {'image': {'type': 'image/png', 'url': 'share/general/arizona.png'}}, 'roles': ['state:04:index', 'state:04:president'], 'name': 'Arizona President Page', 'id': 'c7ab4be7-b698-4299-a546-d28a819ba572', 'seo': {'title': 'Arizona Election Results 2024: Live Map - Races by County - POLITICO', 'description': \"Live 2024 Arizona election results and maps by county and district. POLITICO's real-time coverage of 2024 races for President, Senate, House and Governor.\"}}\n",
      "{'path': '/georgia/', 'stateFips': '13', 'nav': {'name': 'President', 'level': 'state:13'}, 'utag': {'pageName': '2024 Election: Results: General: State: Landing: Georgia'}, 'social': {'image': {'type': 'image/png', 'url': 'share/general/georgia.png'}}, 'roles': ['state:13:index', 'state:13:president'], 'name': 'Georgia President Page', 'id': 'af39fcd1-03df-4e07-b8f3-9090725a4034', 'seo': {'title': 'Georgia Election Results 2024: Live Map - Races by County - POLITICO', 'description': \"Live 2024 Georgia election results and maps by county and district. POLITICO's real-time coverage of 2024 races for President, Senate, House and Governor.\"}}\n",
      "{'path': '/michigan/', 'stateFips': '26', 'nav': {'name': 'President', 'level': 'state:26'}, 'utag': {'pageName': '2024 Election: Results: General: State: Landing: Michigan'}, 'social': {'image': {'type': 'image/png', 'url': 'share/general/michigan.png'}}, 'roles': ['state:26:index', 'state:26:president'], 'name': 'Michigan President Page', 'id': '0fb48fbb-04ff-4c88-93f6-e65cdd7ca747', 'seo': {'title': 'Michigan Election Results 2024: Live Map - Races by County - POLITICO', 'description': \"Live 2024 Michigan election results and maps by county and district. POLITICO's real-time coverage of 2024 races for President, Senate, House and Governor.\"}}\n",
      "{'path': '/north-carolina/', 'stateFips': '37', 'nav': {'name': 'President', 'level': 'state:37'}, 'utag': {'pageName': '2024 Election: Results: General: State: Landing: North Carolina'}, 'social': {'image': {'type': 'image/png', 'url': 'share/general/northcarolina.png'}}, 'roles': ['state:37:index', 'state:37:president'], 'name': 'North Carolina President Page', 'id': '1ba63d38-6ac2-4837-942e-2a5a203361dc', 'seo': {'title': 'North Carolina Election Results 2024: Live Map - Races by County - POLITICO', 'description': \"Live 2024 North Carolina election results and maps by county and district. POLITICO's real-time coverage of 2024 races for President, Senate, House and Governor.\"}}\n",
      "{'path': '/nevada/', 'stateFips': '32', 'nav': {'name': 'President', 'level': 'state:32'}, 'utag': {'pageName': '2024 Election: Results: General: State: Landing: Nevada'}, 'social': {'image': {'type': 'image/png', 'url': 'share/general/nevada.png'}}, 'roles': ['state:32:index', 'state:32:president'], 'name': 'Nevada President Page', 'id': '8191237a-4dcf-4731-bfcf-c9c4dc202404', 'seo': {'title': 'Nevada Election Results 2024: Live Map - Races by County - POLITICO', 'description': \"Live 2024 Nevada election results and maps by county and district. POLITICO's real-time coverage of 2024 races for President, Senate, House and Governor.\"}}\n",
      "{'path': '/pennsylvania/', 'stateFips': '42', 'nav': {'name': 'President', 'level': 'state:42'}, 'utag': {'pageName': '2024 Election: Results: General: State: Landing: Pennsylvania'}, 'social': {'image': {'type': 'image/png', 'url': 'share/general/pennsylvania.png'}}, 'roles': ['state:42:index', 'state:42:president'], 'name': 'Pennsylvania President Page', 'id': '6057f231-e4a3-4fce-94f4-dee981e1c532', 'seo': {'title': 'Pennsylvania Election Results 2024: Live Map - Races by County - POLITICO', 'description': \"Live 2024 Pennsylvania election results and maps by county and district. POLITICO's real-time coverage of 2024 races for President, Senate, House and Governor.\"}}\n",
      "{'path': '/wisconsin/', 'stateFips': '55', 'nav': {'name': 'President', 'level': 'state:55'}, 'utag': {'pageName': '2024 Election: Results: General: State: Landing: Wisconsin'}, 'social': {'image': {'type': 'image/png', 'url': 'share/general/wisconsin.png'}}, 'roles': ['state:55:index', 'state:55:president'], 'name': 'Wisconsin President Page', 'id': '1bc64659-43aa-416f-988f-4af8bcbc4069', 'seo': {'title': 'Wisconsin Election Results 2024: Live Map - Races by County - POLITICO', 'description': \"Live 2024 Wisconsin election results and maps by county and district. POLITICO's real-time coverage of 2024 races for President, Senate, House and Governor.\"}}\n",
      "{'path': '/nebraska/', 'stateFips': '31', 'nav': {'name': 'President', 'level': 'state:31'}, 'utag': {'pageName': '2024 Election: Results: General: State: Landing: Nebraska'}, 'social': {'image': {'type': 'image/png', 'url': 'share/general/nebraska.png'}}, 'roles': ['state:31:index', 'state:31:president'], 'name': 'Nebraska President Page', 'id': '7106e7aa-7a91-4f66-950a-a8b68fd899b9', 'seo': {'title': 'Nebraska Election Results 2024: Live Map - Races by County - POLITICO', 'description': \"Live 2024 Nebraska election results and maps by county and district. POLITICO's real-time coverage of 2024 races for President, Senate, House and Governor.\"}}\n"
     ]
    }
   ],
   "source": [
    "for tmp_dict in state_info[\"pageProps\"][\"manifest\"][\"pages\"]:\n",
    "    try:\n",
    "        tmp_nav = tmp_dict[\"nav\"]\n",
    "        if tmp_nav[\"name\"] == \"President\": \n",
    "            print(tmp_dict)\n",
    "            tmp_name = tmp_dict[\"name\"].replace(\" President Page\",\"\")\n",
    "            tmp_num = tmp_dict[\"stateFips\"]\n",
    "            states[tmp_num] = tmp_name\n",
    "    except KeyError:\n",
    "        continue "
   ]
  },
  {
   "cell_type": "code",
   "execution_count": 42,
   "metadata": {},
   "outputs": [
    {
     "data": {
      "text/plain": [
       "{'33': 'New Hampshire',\n",
       " '45': 'South Carolina',\n",
       " '08': 'Colorado',\n",
       " '50': 'Vermont',\n",
       " '01': 'Alabama',\n",
       " '05': 'Arkansas',\n",
       " '06': 'California',\n",
       " '23': 'Maine',\n",
       " '25': 'Massachusetts',\n",
       " '27': 'Minnesota',\n",
       " '40': 'Oklahoma',\n",
       " '49': 'Utah',\n",
       " '02': 'Alaska',\n",
       " '47': 'Tennessee',\n",
       " '51': 'Virginia',\n",
       " '15': 'Hawaii',\n",
       " '28': 'Mississippi',\n",
       " '48': 'Texas',\n",
       " '53': 'Washington',\n",
       " '17': 'Illinois',\n",
       " '20': 'Kansas',\n",
       " '39': 'Ohio',\n",
       " '29': 'Missouri',\n",
       " '22': 'Louisiana',\n",
       " '12': 'Florida',\n",
       " '38': 'North Dakota',\n",
       " '44': 'Rhode Island',\n",
       " '10': 'Delaware',\n",
       " '36': 'New York',\n",
       " '56': 'Wyoming',\n",
       " '18': 'Indiana',\n",
       " '24': 'Maryland',\n",
       " '54': 'West Virginia',\n",
       " '21': 'Kentucky',\n",
       " '41': 'Oregon',\n",
       " '16': 'Idaho',\n",
       " '11': 'Washington, D.C.',\n",
       " '34': 'New Jersey',\n",
       " '35': 'New Mexico',\n",
       " '46': 'South Dakota',\n",
       " '30': 'Montana',\n",
       " '09': 'Connecticut',\n",
       " '19': 'Iowa',\n",
       " '04': 'Arizona',\n",
       " '13': 'Georgia',\n",
       " '26': 'Michigan',\n",
       " '37': 'North Carolina',\n",
       " '32': 'Nevada',\n",
       " '42': 'Pennsylvania',\n",
       " '55': 'Wisconsin',\n",
       " '31': 'Nebraska'}"
      ]
     },
     "execution_count": 42,
     "metadata": {},
     "output_type": "execute_result"
    }
   ],
   "source": []
  }
 ],
 "metadata": {
  "kernelspec": {
   "display_name": "base",
   "language": "python",
   "name": "python3"
  },
  "language_info": {
   "codemirror_mode": {
    "name": "ipython",
    "version": 3
   },
   "file_extension": ".py",
   "mimetype": "text/x-python",
   "name": "python",
   "nbconvert_exporter": "python",
   "pygments_lexer": "ipython3",
   "version": "3.11.7"
  }
 },
 "nbformat": 4,
 "nbformat_minor": 2
}
